{
    "cells": [
        {
            "metadata": {},
            "cell_type": "markdown",
            "source": "<h1> My Jupyter Notebook on IBM Data Science Experience </h1>"
        },
        {
            "metadata": {},
            "cell_type": "markdown",
            "source": "<b> ANBUMUTHUKUMARAN V </b> <br>\n    <str> My Desired Occupation is that to become a Data Science Professional </str>"
        },
        {
            "metadata": {},
            "cell_type": "markdown",
            "source": "<i> I'm Interested in becoming a Data Science Professional because of the challenges <br>\n    that data from various domain brings in, which would feed my curiousity monkey inside me. </i>"
        },
        {
            "metadata": {},
            "cell_type": "markdown",
            "source": "<h3> The below code will run in python 3 and it will calculate the average speed <br>\n    of your vehicle based on your inputs. </h3>"
        },
        {
            "metadata": {},
            "cell_type": "code",
            "source": "# Get the Distance from User\nDist = float(input(\"Please Enter the Distance Travelled (kms): \"))\n\n# Get the Time taken from user\nTime = float(input(\"Please Enter the Time taken (hrs): \"))\n\n# Calculate the Speed\nSpeed = Dist/Time\n\n# Print the Output\nprint (\"Average Speed of your vehicle is: \", Speed, \"Km/hr\")",
            "execution_count": 1,
            "outputs": [
                {
                    "output_type": "stream",
                    "name": "stdout",
                    "text": "Please Enter the Distance Travelled (kms): 150\nPlease Enter the Time taken (hrs): 2.5\nAverage Speed of your vehicle is:  60.0 Km/hr\n"
                }
            ]
        },
        {
            "metadata": {},
            "cell_type": "markdown",
            "source": "<a> My Email: </a> <a href=bestv4@gmail.com> bestv4@gmail.com </a> <br>\n<hr>\n<blockquote> It's for BlockQuote </blockquote>\n<hr>\n<code> Python <br> \n    str=\"This is a project code in Python\" <br>\n    print(str) <br> </code>"
        },
        {
            "metadata": {},
            "cell_type": "code",
            "source": "",
            "execution_count": null,
            "outputs": []
        }
    ],
    "metadata": {
        "kernelspec": {
            "name": "python3",
            "display_name": "Python 3.6",
            "language": "python"
        },
        "language_info": {
            "name": "python",
            "version": "3.6.8",
            "mimetype": "text/x-python",
            "codemirror_mode": {
                "name": "ipython",
                "version": 3
            },
            "pygments_lexer": "ipython3",
            "nbconvert_exporter": "python",
            "file_extension": ".py"
        }
    },
    "nbformat": 4,
    "nbformat_minor": 1
}