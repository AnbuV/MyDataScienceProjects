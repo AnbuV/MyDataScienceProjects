{
    "cells": [
        {
            "cell_type": "markdown",
            "metadata": {
                "collapsed": true
            },
            "source": "## The Battle of the Neighborhoods - Week 2"
        },
        {
            "cell_type": "markdown",
            "metadata": {},
            "source": "### Part 2 - Web scrapping of Population and Demographics data of New York city from Wikipedia"
        },
        {
            "cell_type": "markdown",
            "metadata": {},
            "source": "#### A : POPULATION DATA\n\nWeb scrapping of Population data from wikipedia page - https://en.wikipedia.org/wiki/New_York_City\n\n#### Download all the dependencies that is needed."
        },
        {
            "cell_type": "code",
            "execution_count": 1,
            "metadata": {},
            "outputs": [
                {
                    "name": "stdout",
                    "output_type": "stream",
                    "text": "Solving environment: done\n\n# All requested packages already installed.\n\nLibraries imported.\n"
                }
            ],
            "source": "import numpy as np # library to handle data in a vectorized manner\n\nimport pandas as pd # library for data analsysis\npd.set_option('display.max_columns', None)\npd.set_option('display.max_rows', None)\n\nimport json # library to handle JSON files\n\n!conda install -c conda-forge geopy --yes # uncomment this line if you haven't completed the Foursquare API lab\nfrom geopy.geocoders import Nominatim # convert an address into latitude and longitude values\n\nimport requests # library to handle requests\nfrom pandas.io.json import json_normalize # tranform JSON file into a pandas dataframe\n\n# Matplotlib and associated plotting modules\nimport matplotlib.cm as cm\nimport matplotlib.colors as colors\nimport matplotlib.pyplot as plt\n\n# conda install -c anaconda beautiful-soup --yes\nfrom bs4 import BeautifulSoup # package for parsing HTML and XML documents\n\nimport csv # implements classes to read and write tabular data in CSV form\n\nprint('Libraries imported.')"
        },
        {
            "cell_type": "markdown",
            "metadata": {},
            "source": "#### Web scrapping of Population data from wikipedia page using BeautifulSoup.\n\nBeautiful Soup is a Python package for parsing HTML and XML documents (including having malformed markup, i.e. non-closed tags, so named after tag soup). It creates a parse tree for parsed pages that can be used to extract data from HTML, which is useful for web scraping."
        },
        {
            "cell_type": "code",
            "execution_count": 2,
            "metadata": {},
            "outputs": [],
            "source": "website_url = requests.get('https://en.wikipedia.org/wiki/Demographics_of_New_York_City').text\nsoup = BeautifulSoup(website_url,'lxml')\ntable = soup.find('table',{'class':'wikitable sortable'})\n#print(soup.prettify())\n\nheaders = [header.text for header in table.find_all('th')]\n\ntable_rows = table.find_all('tr')        \nrows = []\nfor row in table_rows:\n   td = row.find_all('td')\n   row = [row.text for row in td]\n   rows.append(row)\n\nwith open('BON2_POPULATION1.csv', 'w') as f:\n   writer = csv.writer(f)\n   writer.writerow(headers)\n   writer.writerows(row for row in rows if row)"
        },
        {
            "cell_type": "markdown",
            "metadata": {},
            "source": "#### Load data from CSV"
        },
        {
            "cell_type": "code",
            "execution_count": 16,
            "metadata": {},
            "outputs": [
                {
                    "data": {
                        "text/html": "<div>\n<style scoped>\n    .dataframe tbody tr th:only-of-type {\n        vertical-align: middle;\n    }\n\n    .dataframe tbody tr th {\n        vertical-align: top;\n    }\n\n    .dataframe thead th {\n        text-align: right;\n    }\n</style>\n<table border=\"1\" class=\"dataframe\">\n  <thead>\n    <tr style=\"text-align: right;\">\n      <th></th>\n      <th>New York City's five boroughsvte</th>\n      <th>Jurisdiction</th>\n      <th>Population</th>\n      <th>Gross Domestic Product</th>\n      <th>Land area</th>\n      <th>Density</th>\n      <th>Borough</th>\n      <th>County</th>\n    </tr>\n  </thead>\n  <tbody>\n    <tr>\n      <th>0</th>\n      <td>The Bronx\\n</td>\n      <td>\\n  Bronx\\n</td>\n      <td>1,418,207\\n</td>\n      <td>42.695\\n</td>\n      <td>30,100\\n</td>\n      <td>42.10\\n</td>\n      <td>109.04\\n</td>\n      <td>33,867\\n</td>\n    </tr>\n    <tr>\n      <th>1</th>\n      <td>Brooklyn\\n</td>\n      <td>\\n  Kings\\n</td>\n      <td>2,559,903\\n</td>\n      <td>91.559\\n</td>\n      <td>35,800\\n</td>\n      <td>70.82\\n</td>\n      <td>183.42\\n</td>\n      <td>36,147\\n</td>\n    </tr>\n    <tr>\n      <th>2</th>\n      <td>Manhattan\\n</td>\n      <td>\\n  New York\\n</td>\n      <td>1,628,706\\n</td>\n      <td>600.244\\n</td>\n      <td>368,500\\n</td>\n      <td>22.83\\n</td>\n      <td>59.13\\n</td>\n      <td>71,341\\n</td>\n    </tr>\n    <tr>\n      <th>3</th>\n      <td>Queens\\n</td>\n      <td>\\n   Queens\\n</td>\n      <td>2,253,858\\n</td>\n      <td>93.310\\n</td>\n      <td>41,400\\n</td>\n      <td>108.53\\n</td>\n      <td>281.09\\n</td>\n      <td>20,767\\n</td>\n    </tr>\n    <tr>\n      <th>4</th>\n      <td>Staten Island\\n</td>\n      <td>\\n   Richmond\\n</td>\n      <td>476,143\\n</td>\n      <td>14.514\\n</td>\n      <td>30,500\\n</td>\n      <td>58.37\\n</td>\n      <td>151.18\\n</td>\n      <td>8,157\\n</td>\n    </tr>\n  </tbody>\n</table>\n</div>",
                        "text/plain": "  New York City's five boroughsvte\\n   Jurisdiction\\n Population\\n  \\\n0                        The Bronx\\n      \\n  Bronx\\n  1,418,207\\n   \n1                         Brooklyn\\n      \\n  Kings\\n  2,559,903\\n   \n2                        Manhattan\\n   \\n  New York\\n  1,628,706\\n   \n3                           Queens\\n    \\n   Queens\\n  2,253,858\\n   \n4                    Staten Island\\n  \\n   Richmond\\n    476,143\\n   \n\n  Gross Domestic Product\\n Land area\\n Density\\n   Borough    County  \n0                 42.695\\n    30,100\\n   42.10\\n  109.04\\n  33,867\\n  \n1                 91.559\\n    35,800\\n   70.82\\n  183.42\\n  36,147\\n  \n2                600.244\\n   368,500\\n   22.83\\n   59.13\\n  71,341\\n  \n3                 93.310\\n    41,400\\n  108.53\\n  281.09\\n  20,767\\n  \n4                 14.514\\n    30,500\\n   58.37\\n  151.18\\n   8,157\\n  "
                    },
                    "execution_count": 16,
                    "metadata": {},
                    "output_type": "execute_result"
                }
            ],
            "source": "Pop_data=pd.read_csv('BON2_POPULATION1.csv')\nPop_data.drop(Pop_data.columns[[8,9,10,11,12,13,14]], axis=1,inplace=True)\nPop_data.head()"
        },
        {
            "cell_type": "markdown",
            "metadata": {},
            "source": "#### Remove whitespaces and rename columns"
        },
        {
            "cell_type": "code",
            "execution_count": 17,
            "metadata": {},
            "outputs": [
                {
                    "data": {
                        "text/html": "<div>\n<style scoped>\n    .dataframe tbody tr th:only-of-type {\n        vertical-align: middle;\n    }\n\n    .dataframe tbody tr th {\n        vertical-align: top;\n    }\n\n    .dataframe thead th {\n        text-align: right;\n    }\n</style>\n<table border=\"1\" class=\"dataframe\">\n  <thead>\n    <tr style=\"text-align: right;\">\n      <th></th>\n      <th>NewYorkCitysfiveboroughsvte</th>\n      <th>Jurisdiction</th>\n      <th>Population</th>\n      <th>GrossDomesticProduct</th>\n      <th>Landarea</th>\n      <th>Density</th>\n      <th>persons_sq_mi</th>\n      <th>persons_sq_km</th>\n    </tr>\n  </thead>\n  <tbody>\n    <tr>\n      <th>0</th>\n      <td>The Bronx\\n</td>\n      <td>\\n  Bronx\\n</td>\n      <td>1,418,207\\n</td>\n      <td>42.695\\n</td>\n      <td>30,100\\n</td>\n      <td>42.10\\n</td>\n      <td>109.04\\n</td>\n      <td>33,867\\n</td>\n    </tr>\n    <tr>\n      <th>1</th>\n      <td>Brooklyn\\n</td>\n      <td>\\n  Kings\\n</td>\n      <td>2,559,903\\n</td>\n      <td>91.559\\n</td>\n      <td>35,800\\n</td>\n      <td>70.82\\n</td>\n      <td>183.42\\n</td>\n      <td>36,147\\n</td>\n    </tr>\n    <tr>\n      <th>2</th>\n      <td>Manhattan\\n</td>\n      <td>\\n  New York\\n</td>\n      <td>1,628,706\\n</td>\n      <td>600.244\\n</td>\n      <td>368,500\\n</td>\n      <td>22.83\\n</td>\n      <td>59.13\\n</td>\n      <td>71,341\\n</td>\n    </tr>\n    <tr>\n      <th>3</th>\n      <td>Queens\\n</td>\n      <td>\\n   Queens\\n</td>\n      <td>2,253,858\\n</td>\n      <td>93.310\\n</td>\n      <td>41,400\\n</td>\n      <td>108.53\\n</td>\n      <td>281.09\\n</td>\n      <td>20,767\\n</td>\n    </tr>\n    <tr>\n      <th>4</th>\n      <td>Staten Island\\n</td>\n      <td>\\n   Richmond\\n</td>\n      <td>476,143\\n</td>\n      <td>14.514\\n</td>\n      <td>30,500\\n</td>\n      <td>58.37\\n</td>\n      <td>151.18\\n</td>\n      <td>8,157\\n</td>\n    </tr>\n    <tr>\n      <th>5</th>\n      <td>City of New York</td>\n      <td>8,336,817</td>\n      <td>842.343</td>\n      <td>101,000</td>\n      <td>302.64</td>\n      <td>783.83</td>\n      <td>27,547</td>\n      <td>10,636\\n</td>\n    </tr>\n    <tr>\n      <th>6</th>\n      <td>State of New York</td>\n      <td>19,453,561</td>\n      <td>1,731.910</td>\n      <td>89,000</td>\n      <td>47,214</td>\n      <td>122,284</td>\n      <td>412</td>\n      <td>159\\n</td>\n    </tr>\n    <tr>\n      <th>7</th>\n      <td>Sources:[14] and see individual borough articl...</td>\n      <td>NaN</td>\n      <td>NaN</td>\n      <td>NaN</td>\n      <td>NaN</td>\n      <td>NaN</td>\n      <td>NaN</td>\n      <td>NaN</td>\n    </tr>\n  </tbody>\n</table>\n</div>",
                        "text/plain": "                       NewYorkCitysfiveboroughsvte\\n   Jurisdiction\\n  \\\n0                                        The Bronx\\n      \\n  Bronx\\n   \n1                                         Brooklyn\\n      \\n  Kings\\n   \n2                                        Manhattan\\n   \\n  New York\\n   \n3                                           Queens\\n    \\n   Queens\\n   \n4                                    Staten Island\\n  \\n   Richmond\\n   \n5                                   City of New York        8,336,817   \n6                                  State of New York       19,453,561   \n7  Sources:[14] and see individual borough articl...              NaN   \n\n  Population\\n GrossDomesticProduct\\n Landarea\\n Density\\n persons_sq_mi  \\\n0  1,418,207\\n               42.695\\n   30,100\\n   42.10\\n      109.04\\n   \n1  2,559,903\\n               91.559\\n   35,800\\n   70.82\\n      183.42\\n   \n2  1,628,706\\n              600.244\\n  368,500\\n   22.83\\n       59.13\\n   \n3  2,253,858\\n               93.310\\n   41,400\\n  108.53\\n      281.09\\n   \n4    476,143\\n               14.514\\n   30,500\\n   58.37\\n      151.18\\n   \n5      842.343                101,000     302.64    783.83        27,547   \n6    1,731.910                 89,000     47,214   122,284           412   \n7          NaN                    NaN        NaN       NaN           NaN   \n\n  persons_sq_km  \n0      33,867\\n  \n1      36,147\\n  \n2      71,341\\n  \n3      20,767\\n  \n4       8,157\\n  \n5      10,636\\n  \n6         159\\n  \n7           NaN  "
                    },
                    "execution_count": 17,
                    "metadata": {},
                    "output_type": "execute_result"
                }
            ],
            "source": "Pop_data.columns = Pop_data.columns.str.replace(' ', '')\nPop_data.columns = Pop_data.columns.str.replace('\\'','')\nPop_data.rename(columns={'Borough':'persons_sq_mi','County':'persons_sq_km'}, inplace=True)\nPop_data"
        },
        {
            "cell_type": "code",
            "execution_count": 18,
            "metadata": {},
            "outputs": [
                {
                    "data": {
                        "text/html": "<div>\n<style scoped>\n    .dataframe tbody tr th:only-of-type {\n        vertical-align: middle;\n    }\n\n    .dataframe tbody tr th {\n        vertical-align: top;\n    }\n\n    .dataframe thead th {\n        text-align: right;\n    }\n</style>\n<table border=\"1\" class=\"dataframe\">\n  <thead>\n    <tr style=\"text-align: right;\">\n      <th></th>\n      <th>Borough</th>\n      <th>County</th>\n      <th>Estimate_2017</th>\n      <th>GrossDomesticProduct</th>\n      <th>square_miles</th>\n      <th>square_km</th>\n      <th>persons_sq_mi</th>\n      <th>persons_sq_km</th>\n    </tr>\n  </thead>\n  <tbody>\n    <tr>\n      <th>0</th>\n      <td>The Bronx\\n</td>\n      <td>\\n  Bronx\\n</td>\n      <td>1,418,207\\n</td>\n      <td>42.695\\n</td>\n      <td>30,100\\n</td>\n      <td>42.10\\n</td>\n      <td>109.04\\n</td>\n      <td>33,867\\n</td>\n    </tr>\n    <tr>\n      <th>1</th>\n      <td>Brooklyn\\n</td>\n      <td>\\n  Kings\\n</td>\n      <td>2,559,903\\n</td>\n      <td>91.559\\n</td>\n      <td>35,800\\n</td>\n      <td>70.82\\n</td>\n      <td>183.42\\n</td>\n      <td>36,147\\n</td>\n    </tr>\n    <tr>\n      <th>2</th>\n      <td>Manhattan\\n</td>\n      <td>\\n  New York\\n</td>\n      <td>1,628,706\\n</td>\n      <td>600.244\\n</td>\n      <td>368,500\\n</td>\n      <td>22.83\\n</td>\n      <td>59.13\\n</td>\n      <td>71,341\\n</td>\n    </tr>\n    <tr>\n      <th>3</th>\n      <td>Queens\\n</td>\n      <td>\\n   Queens\\n</td>\n      <td>2,253,858\\n</td>\n      <td>93.310\\n</td>\n      <td>41,400\\n</td>\n      <td>108.53\\n</td>\n      <td>281.09\\n</td>\n      <td>20,767\\n</td>\n    </tr>\n    <tr>\n      <th>4</th>\n      <td>Staten Island\\n</td>\n      <td>\\n   Richmond\\n</td>\n      <td>476,143\\n</td>\n      <td>14.514\\n</td>\n      <td>30,500\\n</td>\n      <td>58.37\\n</td>\n      <td>151.18\\n</td>\n      <td>8,157\\n</td>\n    </tr>\n    <tr>\n      <th>5</th>\n      <td>City of New York</td>\n      <td>8,336,817</td>\n      <td>842.343</td>\n      <td>101,000</td>\n      <td>302.64</td>\n      <td>783.83</td>\n      <td>27,547</td>\n      <td>10,636\\n</td>\n    </tr>\n    <tr>\n      <th>6</th>\n      <td>State of New York</td>\n      <td>19,453,561</td>\n      <td>1,731.910</td>\n      <td>89,000</td>\n      <td>47,214</td>\n      <td>122,284</td>\n      <td>412</td>\n      <td>159\\n</td>\n    </tr>\n    <tr>\n      <th>7</th>\n      <td>Sources:[14] and see individual borough articl...</td>\n      <td>NaN</td>\n      <td>NaN</td>\n      <td>NaN</td>\n      <td>NaN</td>\n      <td>NaN</td>\n      <td>NaN</td>\n      <td>NaN</td>\n    </tr>\n  </tbody>\n</table>\n</div>",
                        "text/plain": "                                             Borough           County  \\\n0                                        The Bronx\\n      \\n  Bronx\\n   \n1                                         Brooklyn\\n      \\n  Kings\\n   \n2                                        Manhattan\\n   \\n  New York\\n   \n3                                           Queens\\n    \\n   Queens\\n   \n4                                    Staten Island\\n  \\n   Richmond\\n   \n5                                   City of New York        8,336,817   \n6                                  State of New York       19,453,561   \n7  Sources:[14] and see individual borough articl...              NaN   \n\n  Estimate_2017 GrossDomesticProduct\\n square_miles square_km persons_sq_mi  \\\n0   1,418,207\\n               42.695\\n     30,100\\n   42.10\\n      109.04\\n   \n1   2,559,903\\n               91.559\\n     35,800\\n   70.82\\n      183.42\\n   \n2   1,628,706\\n              600.244\\n    368,500\\n   22.83\\n       59.13\\n   \n3   2,253,858\\n               93.310\\n     41,400\\n  108.53\\n      281.09\\n   \n4     476,143\\n               14.514\\n     30,500\\n   58.37\\n      151.18\\n   \n5       842.343                101,000       302.64    783.83        27,547   \n6     1,731.910                 89,000       47,214   122,284           412   \n7           NaN                    NaN          NaN       NaN           NaN   \n\n  persons_sq_km  \n0      33,867\\n  \n1      36,147\\n  \n2      71,341\\n  \n3      20,767\\n  \n4       8,157\\n  \n5      10,636\\n  \n6         159\\n  \n7           NaN  "
                    },
                    "execution_count": 18,
                    "metadata": {},
                    "output_type": "execute_result"
                }
            ],
            "source": "Pop_data.rename(columns = {'NewYorkCitysfiveboroughsvte\\n' : 'Borough',\n                   'Jurisdiction\\n':'County',\n                   'Population\\n':'Estimate_2017', \n                   'Landarea\\n':'square_miles',\n                    'Density\\n':'square_km'}, inplace=True)\nPop_data"
        },
        {
            "cell_type": "markdown",
            "metadata": {},
            "source": "#### Replace newline('\\n') from each string from left and right sides"
        },
        {
            "cell_type": "code",
            "execution_count": 19,
            "metadata": {},
            "outputs": [
                {
                    "data": {
                        "text/html": "<div>\n<style scoped>\n    .dataframe tbody tr th:only-of-type {\n        vertical-align: middle;\n    }\n\n    .dataframe tbody tr th {\n        vertical-align: top;\n    }\n\n    .dataframe thead th {\n        text-align: right;\n    }\n</style>\n<table border=\"1\" class=\"dataframe\">\n  <thead>\n    <tr style=\"text-align: right;\">\n      <th></th>\n      <th>Borough</th>\n      <th>County</th>\n      <th>Estimate_2017</th>\n      <th>GrossDomesticProduct</th>\n      <th>square_miles</th>\n      <th>square_km</th>\n      <th>persons_sq_mi</th>\n      <th>persons_sq_km</th>\n    </tr>\n  </thead>\n  <tbody>\n    <tr>\n      <th>0</th>\n      <td>The Bronx</td>\n      <td>Bronx</td>\n      <td>1,418,207</td>\n      <td>42.695\\n</td>\n      <td>30,100</td>\n      <td>42.10</td>\n      <td>109.04</td>\n      <td>33,867</td>\n    </tr>\n    <tr>\n      <th>1</th>\n      <td>Brooklyn</td>\n      <td>Kings</td>\n      <td>2,559,903</td>\n      <td>91.559\\n</td>\n      <td>35,800</td>\n      <td>70.82</td>\n      <td>183.42</td>\n      <td>36,147</td>\n    </tr>\n    <tr>\n      <th>2</th>\n      <td>Manhattan</td>\n      <td>New York</td>\n      <td>1,628,706</td>\n      <td>600.244\\n</td>\n      <td>368,500</td>\n      <td>22.83</td>\n      <td>59.13</td>\n      <td>71,341</td>\n    </tr>\n    <tr>\n      <th>3</th>\n      <td>Queens</td>\n      <td>Queens</td>\n      <td>2,253,858</td>\n      <td>93.310\\n</td>\n      <td>41,400</td>\n      <td>108.53</td>\n      <td>281.09</td>\n      <td>20,767</td>\n    </tr>\n    <tr>\n      <th>4</th>\n      <td>Staten Island</td>\n      <td>Richmond</td>\n      <td>476,143</td>\n      <td>14.514\\n</td>\n      <td>30,500</td>\n      <td>58.37</td>\n      <td>151.18</td>\n      <td>8,157</td>\n    </tr>\n    <tr>\n      <th>5</th>\n      <td>City of New York</td>\n      <td>8,336,817</td>\n      <td>842.343</td>\n      <td>101,000</td>\n      <td>302.64</td>\n      <td>783.83</td>\n      <td>27,547</td>\n      <td>10,636</td>\n    </tr>\n    <tr>\n      <th>6</th>\n      <td>State of New York</td>\n      <td>19,453,561</td>\n      <td>1,731.910</td>\n      <td>89,000</td>\n      <td>47,214</td>\n      <td>122,284</td>\n      <td>412</td>\n      <td>159</td>\n    </tr>\n    <tr>\n      <th>7</th>\n      <td>Sources:[14] and see individual borough articles</td>\n      <td>NaN</td>\n      <td>NaN</td>\n      <td>NaN</td>\n      <td>NaN</td>\n      <td>NaN</td>\n      <td>NaN</td>\n      <td>NaN</td>\n    </tr>\n  </tbody>\n</table>\n</div>",
                        "text/plain": "                                            Borough       County  \\\n0                                         The Bronx        Bronx   \n1                                          Brooklyn        Kings   \n2                                         Manhattan     New York   \n3                                            Queens       Queens   \n4                                     Staten Island     Richmond   \n5                                  City of New York    8,336,817   \n6                                 State of New York   19,453,561   \n7  Sources:[14] and see individual borough articles          NaN   \n\n  Estimate_2017 GrossDomesticProduct\\n square_miles square_km persons_sq_mi  \\\n0     1,418,207               42.695\\n       30,100     42.10        109.04   \n1     2,559,903               91.559\\n       35,800     70.82        183.42   \n2     1,628,706              600.244\\n      368,500     22.83         59.13   \n3     2,253,858               93.310\\n       41,400    108.53        281.09   \n4       476,143               14.514\\n       30,500     58.37        151.18   \n5       842.343                101,000       302.64    783.83        27,547   \n6     1,731.910                 89,000       47,214   122,284           412   \n7           NaN                    NaN          NaN       NaN           NaN   \n\n  persons_sq_km  \n0        33,867  \n1        36,147  \n2        71,341  \n3        20,767  \n4         8,157  \n5        10,636  \n6           159  \n7           NaN  "
                    },
                    "execution_count": 19,
                    "metadata": {},
                    "output_type": "execute_result"
                }
            ],
            "source": "Pop_data['Borough']=Pop_data['Borough'].replace(to_replace='\\n', value='', regex=True)\nPop_data['County']=Pop_data['County'].replace(to_replace='\\n', value='', regex=True)\nPop_data['Estimate_2017']=Pop_data['Estimate_2017'].replace(to_replace='\\n', value='', regex=True)\nPop_data['square_miles']=Pop_data['square_miles'].replace(to_replace='\\n', value='', regex=True)\nPop_data['square_km']=Pop_data['square_km'].replace(to_replace='\\n', value='', regex=True)\nPop_data['persons_sq_mi']=Pop_data['persons_sq_mi'].replace(to_replace='\\n', value='', regex=True)\nPop_data['persons_sq_km']=Pop_data['persons_sq_km'].replace(to_replace='\\n', value='', regex=True)\nPop_data"
        },
        {
            "cell_type": "markdown",
            "metadata": {},
            "source": "#### Shift data in the last two rows"
        },
        {
            "cell_type": "code",
            "execution_count": 20,
            "metadata": {},
            "outputs": [
                {
                    "data": {
                        "text/html": "<div>\n<style scoped>\n    .dataframe tbody tr th:only-of-type {\n        vertical-align: middle;\n    }\n\n    .dataframe tbody tr th {\n        vertical-align: top;\n    }\n\n    .dataframe thead th {\n        text-align: right;\n    }\n</style>\n<table border=\"1\" class=\"dataframe\">\n  <thead>\n    <tr style=\"text-align: right;\">\n      <th></th>\n      <th>Borough</th>\n      <th>County</th>\n      <th>Estimate_2017</th>\n      <th>GrossDomesticProduct</th>\n      <th>square_miles</th>\n      <th>square_km</th>\n      <th>persons_sq_mi</th>\n      <th>persons_sq_km</th>\n    </tr>\n  </thead>\n  <tbody>\n    <tr>\n      <th>0</th>\n      <td>The Bronx</td>\n      <td>Bronx</td>\n      <td>1,418,207</td>\n      <td>42.695\\n</td>\n      <td>30,100</td>\n      <td>42.10</td>\n      <td>109.04</td>\n      <td>33,867</td>\n    </tr>\n    <tr>\n      <th>1</th>\n      <td>Brooklyn</td>\n      <td>Kings</td>\n      <td>2,559,903</td>\n      <td>91.559\\n</td>\n      <td>35,800</td>\n      <td>70.82</td>\n      <td>183.42</td>\n      <td>36,147</td>\n    </tr>\n    <tr>\n      <th>2</th>\n      <td>Manhattan</td>\n      <td>New York</td>\n      <td>1,628,706</td>\n      <td>600.244\\n</td>\n      <td>368,500</td>\n      <td>22.83</td>\n      <td>59.13</td>\n      <td>71,341</td>\n    </tr>\n    <tr>\n      <th>3</th>\n      <td>Queens</td>\n      <td>Queens</td>\n      <td>2,253,858</td>\n      <td>93.310\\n</td>\n      <td>41,400</td>\n      <td>108.53</td>\n      <td>281.09</td>\n      <td>20,767</td>\n    </tr>\n    <tr>\n      <th>4</th>\n      <td>Staten Island</td>\n      <td>Richmond</td>\n      <td>476,143</td>\n      <td>14.514\\n</td>\n      <td>30,500</td>\n      <td>58.37</td>\n      <td>151.18</td>\n      <td>8,157</td>\n    </tr>\n    <tr>\n      <th>5</th>\n      <td>NaN</td>\n      <td>City of New York</td>\n      <td>8,336,817</td>\n      <td>101,000</td>\n      <td>842.343</td>\n      <td>302.64</td>\n      <td>783.83</td>\n      <td>27,547</td>\n    </tr>\n    <tr>\n      <th>6</th>\n      <td>NaN</td>\n      <td>State of New York</td>\n      <td>19,453,561</td>\n      <td>89,000</td>\n      <td>1,731.910</td>\n      <td>47,214</td>\n      <td>122,284</td>\n      <td>412</td>\n    </tr>\n    <tr>\n      <th>7</th>\n      <td>NaN</td>\n      <td>Sources:[14] and see individual borough articles</td>\n      <td>NaN</td>\n      <td>NaN</td>\n      <td>NaN</td>\n      <td>NaN</td>\n      <td>NaN</td>\n      <td>NaN</td>\n    </tr>\n  </tbody>\n</table>\n</div>",
                        "text/plain": "         Borough                                            County  \\\n0      The Bronx                                             Bronx   \n1       Brooklyn                                             Kings   \n2      Manhattan                                          New York   \n3         Queens                                            Queens   \n4  Staten Island                                          Richmond   \n5            NaN                                  City of New York   \n6            NaN                                 State of New York   \n7            NaN  Sources:[14] and see individual borough articles   \n\n  Estimate_2017 GrossDomesticProduct\\n square_miles square_km persons_sq_mi  \\\n0     1,418,207               42.695\\n       30,100     42.10        109.04   \n1     2,559,903               91.559\\n       35,800     70.82        183.42   \n2     1,628,706              600.244\\n      368,500     22.83         59.13   \n3     2,253,858               93.310\\n       41,400    108.53        281.09   \n4       476,143               14.514\\n       30,500     58.37        151.18   \n5     8,336,817                101,000      842.343    302.64        783.83   \n6    19,453,561                 89,000    1,731.910    47,214       122,284   \n7           NaN                    NaN          NaN       NaN           NaN   \n\n  persons_sq_km  \n0        33,867  \n1        36,147  \n2        71,341  \n3        20,767  \n4         8,157  \n5        27,547  \n6           412  \n7           NaN  "
                    },
                    "execution_count": 20,
                    "metadata": {},
                    "output_type": "execute_result"
                }
            ],
            "source": "Pop_data.loc[5:,['persons_sq_mi','persons_sq_km']] = Pop_data.loc[2:,['persons_sq_mi','persons_sq_km']].shift(1,axis=1)\nPop_data.loc[5:,['square_km','persons_sq_mi']] = Pop_data.loc[2:,['square_km','persons_sq_mi']].shift(1,axis=1)\nPop_data.loc[5:,['square_miles','square_km']] = Pop_data.loc[2:,['square_miles','square_km']].shift(1,axis=1)\nPop_data.loc[5:,['Estimate_2017','square_miles']] = Pop_data.loc[2:,['Estimate_2017','square_miles']].shift(1,axis=1)\nPop_data.loc[5:,['County','Estimate_2017']] = Pop_data.loc[2:,['County','Estimate_2017']].shift(1,axis=1)\nPop_data.loc[5:,['Borough','County']] = Pop_data.loc[2:,['Borough','County']].shift(1,axis=1)\nPop_data"
        },
        {
            "cell_type": "markdown",
            "metadata": {},
            "source": "#### Remove 'NAN'"
        },
        {
            "cell_type": "code",
            "execution_count": 21,
            "metadata": {},
            "outputs": [
                {
                    "data": {
                        "text/html": "<div>\n<style scoped>\n    .dataframe tbody tr th:only-of-type {\n        vertical-align: middle;\n    }\n\n    .dataframe tbody tr th {\n        vertical-align: top;\n    }\n\n    .dataframe thead th {\n        text-align: right;\n    }\n</style>\n<table border=\"1\" class=\"dataframe\">\n  <thead>\n    <tr style=\"text-align: right;\">\n      <th></th>\n      <th>Borough</th>\n      <th>County</th>\n      <th>Estimate_2017</th>\n      <th>GrossDomesticProduct</th>\n      <th>square_miles</th>\n      <th>square_km</th>\n      <th>persons_sq_mi</th>\n      <th>persons_sq_km</th>\n    </tr>\n  </thead>\n  <tbody>\n    <tr>\n      <th>0</th>\n      <td>The Bronx</td>\n      <td>Bronx</td>\n      <td>1,418,207</td>\n      <td>42.695\\n</td>\n      <td>30,100</td>\n      <td>42.10</td>\n      <td>109.04</td>\n      <td>33,867</td>\n    </tr>\n    <tr>\n      <th>1</th>\n      <td>Brooklyn</td>\n      <td>Kings</td>\n      <td>2,559,903</td>\n      <td>91.559\\n</td>\n      <td>35,800</td>\n      <td>70.82</td>\n      <td>183.42</td>\n      <td>36,147</td>\n    </tr>\n    <tr>\n      <th>2</th>\n      <td>Manhattan</td>\n      <td>New York</td>\n      <td>1,628,706</td>\n      <td>600.244\\n</td>\n      <td>368,500</td>\n      <td>22.83</td>\n      <td>59.13</td>\n      <td>71,341</td>\n    </tr>\n    <tr>\n      <th>3</th>\n      <td>Queens</td>\n      <td>Queens</td>\n      <td>2,253,858</td>\n      <td>93.310\\n</td>\n      <td>41,400</td>\n      <td>108.53</td>\n      <td>281.09</td>\n      <td>20,767</td>\n    </tr>\n    <tr>\n      <th>4</th>\n      <td>Staten Island</td>\n      <td>Richmond</td>\n      <td>476,143</td>\n      <td>14.514\\n</td>\n      <td>30,500</td>\n      <td>58.37</td>\n      <td>151.18</td>\n      <td>8,157</td>\n    </tr>\n    <tr>\n      <th>5</th>\n      <td></td>\n      <td>City of New York</td>\n      <td>8,336,817</td>\n      <td>101,000</td>\n      <td>842.343</td>\n      <td>302.64</td>\n      <td>783.83</td>\n      <td>27,547</td>\n    </tr>\n    <tr>\n      <th>6</th>\n      <td></td>\n      <td>State of New York</td>\n      <td>19,453,561</td>\n      <td>89,000</td>\n      <td>1,731.910</td>\n      <td>47,214</td>\n      <td>122,284</td>\n      <td>412</td>\n    </tr>\n    <tr>\n      <th>7</th>\n      <td></td>\n      <td>Sources:[14] and see individual borough articles</td>\n      <td></td>\n      <td></td>\n      <td></td>\n      <td></td>\n      <td></td>\n      <td></td>\n    </tr>\n  </tbody>\n</table>\n</div>",
                        "text/plain": "         Borough                                            County  \\\n0      The Bronx                                             Bronx   \n1       Brooklyn                                             Kings   \n2      Manhattan                                          New York   \n3         Queens                                            Queens   \n4  Staten Island                                          Richmond   \n5                                                 City of New York   \n6                                                State of New York   \n7                 Sources:[14] and see individual borough articles   \n\n  Estimate_2017 GrossDomesticProduct\\n square_miles square_km persons_sq_mi  \\\n0     1,418,207               42.695\\n       30,100     42.10        109.04   \n1     2,559,903               91.559\\n       35,800     70.82        183.42   \n2     1,628,706              600.244\\n      368,500     22.83         59.13   \n3     2,253,858               93.310\\n       41,400    108.53        281.09   \n4       476,143               14.514\\n       30,500     58.37        151.18   \n5     8,336,817                101,000      842.343    302.64        783.83   \n6    19,453,561                 89,000    1,731.910    47,214       122,284   \n7                                                                             \n\n  persons_sq_km  \n0        33,867  \n1        36,147  \n2        71,341  \n3        20,767  \n4         8,157  \n5        27,547  \n6           412  \n7                "
                    },
                    "execution_count": 21,
                    "metadata": {},
                    "output_type": "execute_result"
                }
            ],
            "source": "Pop_data = Pop_data.fillna('')\nPop_data"
        },
        {
            "cell_type": "markdown",
            "metadata": {},
            "source": "#### Drop the last row"
        },
        {
            "cell_type": "code",
            "execution_count": 23,
            "metadata": {},
            "outputs": [
                {
                    "data": {
                        "text/html": "<div>\n<style scoped>\n    .dataframe tbody tr th:only-of-type {\n        vertical-align: middle;\n    }\n\n    .dataframe tbody tr th {\n        vertical-align: top;\n    }\n\n    .dataframe thead th {\n        text-align: right;\n    }\n</style>\n<table border=\"1\" class=\"dataframe\">\n  <thead>\n    <tr style=\"text-align: right;\">\n      <th></th>\n      <th>Borough</th>\n      <th>County</th>\n      <th>Estimate_2017</th>\n      <th>GrossDomesticProduct</th>\n      <th>square_miles</th>\n      <th>square_km</th>\n      <th>persons_sq_mi</th>\n      <th>persons_sq_km</th>\n    </tr>\n  </thead>\n  <tbody>\n    <tr>\n      <th>0</th>\n      <td>The Bronx</td>\n      <td>Bronx</td>\n      <td>1,418,207</td>\n      <td>42.695\\n</td>\n      <td>30,100</td>\n      <td>42.10</td>\n      <td>109.04</td>\n      <td>33,867</td>\n    </tr>\n    <tr>\n      <th>1</th>\n      <td>Brooklyn</td>\n      <td>Kings</td>\n      <td>2,559,903</td>\n      <td>91.559\\n</td>\n      <td>35,800</td>\n      <td>70.82</td>\n      <td>183.42</td>\n      <td>36,147</td>\n    </tr>\n    <tr>\n      <th>2</th>\n      <td>Manhattan</td>\n      <td>New York</td>\n      <td>1,628,706</td>\n      <td>600.244\\n</td>\n      <td>368,500</td>\n      <td>22.83</td>\n      <td>59.13</td>\n      <td>71,341</td>\n    </tr>\n    <tr>\n      <th>3</th>\n      <td>Queens</td>\n      <td>Queens</td>\n      <td>2,253,858</td>\n      <td>93.310\\n</td>\n      <td>41,400</td>\n      <td>108.53</td>\n      <td>281.09</td>\n      <td>20,767</td>\n    </tr>\n    <tr>\n      <th>4</th>\n      <td>Staten Island</td>\n      <td>Richmond</td>\n      <td>476,143</td>\n      <td>14.514\\n</td>\n      <td>30,500</td>\n      <td>58.37</td>\n      <td>151.18</td>\n      <td>8,157</td>\n    </tr>\n    <tr>\n      <th>5</th>\n      <td></td>\n      <td>City of New York</td>\n      <td>8,336,817</td>\n      <td>101,000</td>\n      <td>842.343</td>\n      <td>302.64</td>\n      <td>783.83</td>\n      <td>27,547</td>\n    </tr>\n    <tr>\n      <th>6</th>\n      <td></td>\n      <td>State of New York</td>\n      <td>19,453,561</td>\n      <td>89,000</td>\n      <td>1,731.910</td>\n      <td>47,214</td>\n      <td>122,284</td>\n      <td>412</td>\n    </tr>\n  </tbody>\n</table>\n</div>",
                        "text/plain": "         Borough             County Estimate_2017 GrossDomesticProduct\\n  \\\n0      The Bronx              Bronx     1,418,207               42.695\\n   \n1       Brooklyn              Kings     2,559,903               91.559\\n   \n2      Manhattan           New York     1,628,706              600.244\\n   \n3         Queens             Queens     2,253,858               93.310\\n   \n4  Staten Island           Richmond       476,143               14.514\\n   \n5                  City of New York     8,336,817                101,000   \n6                 State of New York    19,453,561                 89,000   \n\n  square_miles square_km persons_sq_mi persons_sq_km  \n0       30,100     42.10        109.04        33,867  \n1       35,800     70.82        183.42        36,147  \n2      368,500     22.83         59.13        71,341  \n3       41,400    108.53        281.09        20,767  \n4       30,500     58.37        151.18         8,157  \n5      842.343    302.64        783.83        27,547  \n6    1,731.910    47,214       122,284           412  "
                    },
                    "execution_count": 23,
                    "metadata": {},
                    "output_type": "execute_result"
                }
            ],
            "source": "i = Pop_data[((Pop_data.County == 'Sources:[14] and see individual borough articles'))].index\nPop_data.drop(i)"
        },
        {
            "cell_type": "markdown",
            "metadata": {},
            "source": "#### Save dataframe as csv file"
        },
        {
            "cell_type": "code",
            "execution_count": 24,
            "metadata": {},
            "outputs": [],
            "source": "Pop_data.to_csv('BON2_POPULATION.csv',index=False)"
        },
        {
            "cell_type": "markdown",
            "metadata": {},
            "source": "#### B : DEMOGRAPHICS DATA\n\nWe will web scrap Demographics data from wikipedia page - https://en.wikipedia.org/wiki/New_York_City"
        },
        {
            "cell_type": "markdown",
            "metadata": {},
            "source": "#### Web scrapping of Demographics data from wikipedia page using BeautifulSoup.\n\nBeautiful Soup is a Python package for parsing HTML and XML documents (including having malformed markup, i.e. non-closed tags, so named after tag soup). It creates a parse tree for parsed pages that can be used to extract data from HTML, which is useful for web scraping."
        },
        {
            "cell_type": "code",
            "execution_count": 131,
            "metadata": {},
            "outputs": [],
            "source": "website_url = requests.get(\"https://en.wikipedia.org/wiki/New_York_City\").text\nsoup = BeautifulSoup(website_url,'lxml')\ntable = soup.find('table',{'class':'wikitable collapsible collapsed'})\n\n\nheaders = [header.text for header in table.tbody.find_all('th',{'class':'Racial composition'})]\n\ntable_rows = table.find_all('tr')        \nrows = []\nfor row in table_rows:\n   td = row.find_all('td')\n   row = [row.text for row in td]\n   rows.append(row)\n\nwith open('NYC_DEMO.csv', 'w') as f:\n   writer = csv.writer(f)\n   writer.writerow(headers)\n   writer.writerows(row for row in rows if row)"
        },
        {
            "cell_type": "markdown",
            "metadata": {},
            "source": "#### Load data from CSV"
        },
        {
            "cell_type": "code",
            "execution_count": 132,
            "metadata": {},
            "outputs": [
                {
                    "name": "stdout",
                    "output_type": "stream",
                    "text": "Data downloaded!\n"
                }
            ],
            "source": "Demo_data=pd.read_csv('NYC_DEMO.csv')\nprint('Data downloaded!')"
        },
        {
            "cell_type": "code",
            "execution_count": 133,
            "metadata": {},
            "outputs": [
                {
                    "data": {
                        "text/html": "<div>\n<style scoped>\n    .dataframe tbody tr th:only-of-type {\n        vertical-align: middle;\n    }\n\n    .dataframe tbody tr th {\n        vertical-align: top;\n    }\n\n    .dataframe thead th {\n        text-align: right;\n    }\n</style>\n<table border=\"1\" class=\"dataframe\">\n  <thead>\n    <tr style=\"text-align: right;\">\n      <th></th>\n      <th>2010 Census[233][234]</th>\n      <th>NY City</th>\n      <th>NY State</th>\n      <th>U.S.</th>\n    </tr>\n  </thead>\n  <tbody>\n    <tr>\n      <th>0</th>\n      <td>Total population</td>\n      <td>8,175,133</td>\n      <td>19,378,102</td>\n      <td>308,745,538\\n</td>\n    </tr>\n    <tr>\n      <th>1</th>\n      <td>Population change, 2000 to 2010</td>\n      <td>+2.1%</td>\n      <td>+2.1%</td>\n      <td>+9.7%\\n</td>\n    </tr>\n    <tr>\n      <th>2</th>\n      <td>Population density (people/sqmi)</td>\n      <td>27,012.5</td>\n      <td>411.2</td>\n      <td>87.4\\n</td>\n    </tr>\n    <tr>\n      <th>3</th>\n      <td>Median household income (2015)</td>\n      <td>$53,373</td>\n      <td>$59,269</td>\n      <td>$53,889\\n</td>\n    </tr>\n    <tr>\n      <th>4</th>\n      <td>Bachelor's degree or higher</td>\n      <td>35.7%</td>\n      <td>34.2%</td>\n      <td>29.8%\\n</td>\n    </tr>\n    <tr>\n      <th>5</th>\n      <td>Foreign born</td>\n      <td>37.2%</td>\n      <td>22.5%</td>\n      <td>13.2%\\n</td>\n    </tr>\n    <tr>\n      <th>6</th>\n      <td>White (non-Hispanic)</td>\n      <td>44.0%</td>\n      <td>65.7%</td>\n      <td>72.4%\\n</td>\n    </tr>\n    <tr>\n      <th>7</th>\n      <td>Black</td>\n      <td>25.5%</td>\n      <td>15.9%</td>\n      <td>12.6%\\n</td>\n    </tr>\n    <tr>\n      <th>8</th>\n      <td>Hispanic (any race)</td>\n      <td>28.6%</td>\n      <td>17.6%</td>\n      <td>16.3%\\n</td>\n    </tr>\n    <tr>\n      <th>9</th>\n      <td>Asian</td>\n      <td>12.7%</td>\n      <td>7.3%</td>\n      <td>4.8%\\n</td>\n    </tr>\n  </tbody>\n</table>\n</div>",
                        "text/plain": "              2010 Census[233][234]    NY City    NY State         U.S.\\n\n0                  Total population  8,175,133  19,378,102  308,745,538\\n\n1   Population change, 2000 to 2010      +2.1%       +2.1%        +9.7%\\n\n2  Population density (people/sqmi)   27,012.5       411.2         87.4\\n\n3    Median household income (2015)    $53,373     $59,269      $53,889\\n\n4       Bachelor's degree or higher      35.7%       34.2%        29.8%\\n\n5                      Foreign born      37.2%       22.5%        13.2%\\n\n6              White (non-Hispanic)      44.0%       65.7%        72.4%\\n\n7                             Black      25.5%       15.9%        12.6%\\n\n8               Hispanic (any race)      28.6%       17.6%        16.3%\\n\n9                             Asian      12.7%        7.3%         4.8%\\n"
                    },
                    "execution_count": 133,
                    "metadata": {},
                    "output_type": "execute_result"
                }
            ],
            "source": "Demo_data"
        },
        {
            "cell_type": "markdown",
            "metadata": {},
            "source": "#### Remove whitespaces and rename columns"
        },
        {
            "cell_type": "code",
            "execution_count": 134,
            "metadata": {},
            "outputs": [
                {
                    "data": {
                        "text/plain": "Index(['2010 Census[233][234]', 'NY City', 'NY State', 'U.S.\\n'], dtype='object')"
                    },
                    "execution_count": 134,
                    "metadata": {},
                    "output_type": "execute_result"
                }
            ],
            "source": "Demo_data.columns"
        },
        {
            "cell_type": "code",
            "execution_count": 135,
            "metadata": {},
            "outputs": [
                {
                    "data": {
                        "text/html": "<div>\n<style scoped>\n    .dataframe tbody tr th:only-of-type {\n        vertical-align: middle;\n    }\n\n    .dataframe tbody tr th {\n        vertical-align: top;\n    }\n\n    .dataframe thead th {\n        text-align: right;\n    }\n</style>\n<table border=\"1\" class=\"dataframe\">\n  <thead>\n    <tr style=\"text-align: right;\">\n      <th></th>\n      <th>2010 Census</th>\n      <th>NY City</th>\n      <th>NY State</th>\n      <th>U.S</th>\n    </tr>\n  </thead>\n  <tbody>\n    <tr>\n      <th>0</th>\n      <td>Total population</td>\n      <td>8,175,133</td>\n      <td>19,378,102</td>\n      <td>308,745,538\\n</td>\n    </tr>\n    <tr>\n      <th>1</th>\n      <td>Population change, 2000 to 2010</td>\n      <td>+2.1%</td>\n      <td>+2.1%</td>\n      <td>+9.7%\\n</td>\n    </tr>\n    <tr>\n      <th>2</th>\n      <td>Population density (people/sqmi)</td>\n      <td>27,012.5</td>\n      <td>411.2</td>\n      <td>87.4\\n</td>\n    </tr>\n    <tr>\n      <th>3</th>\n      <td>Median household income (2015)</td>\n      <td>$53,373</td>\n      <td>$59,269</td>\n      <td>$53,889\\n</td>\n    </tr>\n    <tr>\n      <th>4</th>\n      <td>Bachelor's degree or higher</td>\n      <td>35.7%</td>\n      <td>34.2%</td>\n      <td>29.8%\\n</td>\n    </tr>\n    <tr>\n      <th>5</th>\n      <td>Foreign born</td>\n      <td>37.2%</td>\n      <td>22.5%</td>\n      <td>13.2%\\n</td>\n    </tr>\n    <tr>\n      <th>6</th>\n      <td>White (non-Hispanic)</td>\n      <td>44.0%</td>\n      <td>65.7%</td>\n      <td>72.4%\\n</td>\n    </tr>\n    <tr>\n      <th>7</th>\n      <td>Black</td>\n      <td>25.5%</td>\n      <td>15.9%</td>\n      <td>12.6%\\n</td>\n    </tr>\n    <tr>\n      <th>8</th>\n      <td>Hispanic (any race)</td>\n      <td>28.6%</td>\n      <td>17.6%</td>\n      <td>16.3%\\n</td>\n    </tr>\n    <tr>\n      <th>9</th>\n      <td>Asian</td>\n      <td>12.7%</td>\n      <td>7.3%</td>\n      <td>4.8%\\n</td>\n    </tr>\n  </tbody>\n</table>\n</div>",
                        "text/plain": "                        2010 Census    NY City    NY State            U.S\n0                  Total population  8,175,133  19,378,102  308,745,538\\n\n1   Population change, 2000 to 2010      +2.1%       +2.1%        +9.7%\\n\n2  Population density (people/sqmi)   27,012.5       411.2         87.4\\n\n3    Median household income (2015)    $53,373     $59,269      $53,889\\n\n4       Bachelor's degree or higher      35.7%       34.2%        29.8%\\n\n5                      Foreign born      37.2%       22.5%        13.2%\\n\n6              White (non-Hispanic)      44.0%       65.7%        72.4%\\n\n7                             Black      25.5%       15.9%        12.6%\\n\n8               Hispanic (any race)      28.6%       17.6%        16.3%\\n\n9                             Asian      12.7%        7.3%         4.8%\\n"
                    },
                    "execution_count": 135,
                    "metadata": {},
                    "output_type": "execute_result"
                }
            ],
            "source": "Demo_data.rename(columns = {'2010 Census[233][234]' : '2010 Census',\n                   'U.S.\\n':'U.S',\n                    }, inplace=True)\nDemo_data"
        },
        {
            "cell_type": "code",
            "execution_count": 136,
            "metadata": {},
            "outputs": [],
            "source": "Demo_data.columns = Demo_data.columns.str.replace(' ', '')"
        },
        {
            "cell_type": "markdown",
            "metadata": {},
            "source": "#### Replace newline('\\n') from each string from left and right sides"
        },
        {
            "cell_type": "code",
            "execution_count": 137,
            "metadata": {},
            "outputs": [
                {
                    "data": {
                        "text/html": "<div>\n<style scoped>\n    .dataframe tbody tr th:only-of-type {\n        vertical-align: middle;\n    }\n\n    .dataframe tbody tr th {\n        vertical-align: top;\n    }\n\n    .dataframe thead th {\n        text-align: right;\n    }\n</style>\n<table border=\"1\" class=\"dataframe\">\n  <thead>\n    <tr style=\"text-align: right;\">\n      <th></th>\n      <th>2010Census</th>\n      <th>NYCity</th>\n      <th>NYState</th>\n      <th>U.S</th>\n    </tr>\n  </thead>\n  <tbody>\n    <tr>\n      <th>0</th>\n      <td>Total population</td>\n      <td>8,175,133</td>\n      <td>19,378,102</td>\n      <td>308,745,538</td>\n    </tr>\n    <tr>\n      <th>1</th>\n      <td>Population change, 2000 to 2010</td>\n      <td>+2.1%</td>\n      <td>+2.1%</td>\n      <td>+9.7%</td>\n    </tr>\n    <tr>\n      <th>2</th>\n      <td>Population density (people/sqmi)</td>\n      <td>27,012.5</td>\n      <td>411.2</td>\n      <td>87.4</td>\n    </tr>\n    <tr>\n      <th>3</th>\n      <td>Median household income (2015)</td>\n      <td>$53,373</td>\n      <td>$59,269</td>\n      <td>$53,889</td>\n    </tr>\n    <tr>\n      <th>4</th>\n      <td>Bachelor's degree or higher</td>\n      <td>35.7%</td>\n      <td>34.2%</td>\n      <td>29.8%</td>\n    </tr>\n    <tr>\n      <th>5</th>\n      <td>Foreign born</td>\n      <td>37.2%</td>\n      <td>22.5%</td>\n      <td>13.2%</td>\n    </tr>\n    <tr>\n      <th>6</th>\n      <td>White (non-Hispanic)</td>\n      <td>44.0%</td>\n      <td>65.7%</td>\n      <td>72.4%</td>\n    </tr>\n    <tr>\n      <th>7</th>\n      <td>Black</td>\n      <td>25.5%</td>\n      <td>15.9%</td>\n      <td>12.6%</td>\n    </tr>\n    <tr>\n      <th>8</th>\n      <td>Hispanic (any race)</td>\n      <td>28.6%</td>\n      <td>17.6%</td>\n      <td>16.3%</td>\n    </tr>\n    <tr>\n      <th>9</th>\n      <td>Asian</td>\n      <td>12.7%</td>\n      <td>7.3%</td>\n      <td>4.8%</td>\n    </tr>\n  </tbody>\n</table>\n</div>",
                        "text/plain": "                         2010Census     NYCity     NYState           U.S\n0                  Total population  8,175,133  19,378,102  308,745,538 \n1   Population change, 2000 to 2010      +2.1%       +2.1%        +9.7% \n2  Population density (people/sqmi)   27,012.5       411.2         87.4 \n3    Median household income (2015)    $53,373     $59,269      $53,889 \n4       Bachelor's degree or higher      35.7%       34.2%        29.8% \n5                      Foreign born      37.2%       22.5%        13.2% \n6              White (non-Hispanic)      44.0%       65.7%        72.4% \n7                             Black      25.5%       15.9%        12.6% \n8               Hispanic (any race)      28.6%       17.6%        16.3% \n9                             Asian      12.7%        7.3%         4.8% "
                    },
                    "execution_count": 137,
                    "metadata": {},
                    "output_type": "execute_result"
                }
            ],
            "source": "Demo_data= Demo_data.replace('\\n',' ', regex=True)\nDemo_data"
        },
        {
            "cell_type": "markdown",
            "metadata": {},
            "source": "#### Save dataframe as csv file"
        },
        {
            "cell_type": "code",
            "execution_count": 138,
            "metadata": {},
            "outputs": [],
            "source": "Demo_data.to_csv('BON2_DEMOGRAPHICS.csv',index=False)"
        },
        {
            "cell_type": "code",
            "execution_count": null,
            "metadata": {},
            "outputs": [],
            "source": ""
        }
    ],
    "metadata": {
        "kernelspec": {
            "display_name": "Python 3.6",
            "language": "python",
            "name": "python3"
        },
        "language_info": {
            "codemirror_mode": {
                "name": "ipython",
                "version": 3
            },
            "file_extension": ".py",
            "mimetype": "text/x-python",
            "name": "python",
            "nbconvert_exporter": "python",
            "pygments_lexer": "ipython3",
            "version": "3.6.9"
        }
    },
    "nbformat": 4,
    "nbformat_minor": 1
}
